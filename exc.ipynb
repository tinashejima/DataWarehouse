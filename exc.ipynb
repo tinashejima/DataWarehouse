{
 "cells": [
  {
   "cell_type": "code",
   "execution_count": 8,
   "metadata": {},
   "outputs": [
    {
     "ename": "SyntaxError",
     "evalue": "invalid syntax (<ipython-input-8-45c8b3aa59f4>, line 6)",
     "output_type": "error",
     "traceback": [
      "\u001b[0;36m  File \u001b[0;32m\"<ipython-input-8-45c8b3aa59f4>\"\u001b[0;36m, line \u001b[0;32m6\u001b[0m\n\u001b[0;31m    'Male': data['gender'].eq('Male').astype(int),\u001b[0m\n\u001b[0m         ^\u001b[0m\n\u001b[0;31mSyntaxError\u001b[0m\u001b[0;31m:\u001b[0m invalid syntax\n"
     ]
    }
   ],
   "source": [
    "import pandas as pd\n",
    "\n",
    "data = pd.read_excel('Student Mental health.xlsx')\n",
    "\n",
    "new_data = pd.DataFrame({\n",
    "    'Age_Range': pd.cut(data['Age'], bins=['18-19', '20-21', '22-23', '24-25']),\n",
    "    #'Age_Range': pd.cut(data['Age'], bins=[18-19, 20-21, 22-23, 24-25]),\n",
    "    'Male': data['gender'].eq('Male').astype(int),\n",
    "    'Female': data['gender'].eq('Female').astype(int)\n",
    "})\n",
    "\n",
    "\n",
    "new_data_pivot = new_data.pivot_table(index='Age_Range', aggfunc='sum')\n",
    "\n",
    "new_data_pivot.to_excel('new_file.xlsx')"
   ]
  },
  {
   "cell_type": "code",
   "execution_count": null,
   "metadata": {},
   "outputs": [],
   "source": []
  }
 ],
 "metadata": {
  "kernelspec": {
   "display_name": "base",
   "language": "python",
   "name": "python3"
  },
  "language_info": {
   "codemirror_mode": {
    "name": "ipython",
    "version": 3
   },
   "file_extension": ".py",
   "mimetype": "text/x-python",
   "name": "python",
   "nbconvert_exporter": "python",
   "pygments_lexer": "ipython3",
   "version": "3.7.0"
  }
 },
 "nbformat": 4,
 "nbformat_minor": 2
}
