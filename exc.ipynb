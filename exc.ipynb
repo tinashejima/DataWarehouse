{
 "cells": [
  {
   "cell_type": "code",
   "execution_count": 5,
   "metadata": {},
   "outputs": [],
   "source": [
    "import pandas as pd\n",
    "\n",
    "data = pd.read_excel('Student Mental health.xlsx')\n",
    "\n",
    "new_data = pd.DataFrame({\n",
    "    'Age_Range': pd.cut(data['Age'], bins=[18-19, 20-21, 22-23, 24-25]),\n",
    "    'Male': data['gender'].eq('Male').astype(int),\n",
    "    'Female': data['gender'].eq('Female').astype(int)\n",
    "})\n",
    "\n",
    "\n",
    "new_data_pivot = new_data.pivot_table(index='Age_Range', aggfunc='sum')\n",
    "\n",
    "new_data_pivot.to_excel('new_file.xlsx')"
   ]
  },
  {
   "cell_type": "code",
   "execution_count": null,
   "metadata": {},
   "outputs": [],
   "source": []
  }
 ],
 "metadata": {
  "kernelspec": {
   "display_name": "base",
   "language": "python",
   "name": "python3"
  },
  "language_info": {
   "codemirror_mode": {
    "name": "ipython",
    "version": 3
   },
   "file_extension": ".py",
   "mimetype": "text/x-python",
   "name": "python",
   "nbconvert_exporter": "python",
   "pygments_lexer": "ipython3",
   "version": "3.7.0"
  }
 },
 "nbformat": 4,
 "nbformat_minor": 2
}
